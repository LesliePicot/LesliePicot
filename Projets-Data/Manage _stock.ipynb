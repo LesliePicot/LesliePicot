{
 "cells": [
  {
   "cell_type": "markdown",
   "metadata": {},
   "source": [
    "<style>\n",
    "pu { color: Purple }\n",
    "g { color: Green }\n",
    "</style>\n",
    "\n",
    "# <pu>**Manage a candy shop's stock**</pu> 🍬\n",
    "\n",
    "* **<g>The initial stock of the candy shop</g>** : 45 000\n",
    "* **<g>The monday delivery</g>** : 3 000"
   ]
  },
  {
   "cell_type": "code",
   "execution_count": 15,
   "metadata": {},
   "outputs": [],
   "source": [
    "initial_stock = 45000\n",
    "monday_delivery = 3000"
   ]
  },
  {
   "cell_type": "code",
   "execution_count": 16,
   "metadata": {},
   "outputs": [
    {
     "name": "stdout",
     "output_type": "stream",
     "text": [
      "48000\n"
     ]
    }
   ],
   "source": [
    "# TODO: add the Monday delivery to the stock\n",
    "\n",
    "stock = initial_stock + monday_delivery\n",
    "print (stock)"
   ]
  },
  {
   "cell_type": "code",
   "execution_count": 17,
   "metadata": {},
   "outputs": [],
   "source": [
    "# TODO: decrease the stock of 25% after the Christmas purchase"
   ]
  },
  {
   "cell_type": "code",
   "execution_count": 18,
   "metadata": {},
   "outputs": [],
   "source": [
    "# TODO: substact 1500 candies bought for the school celebrations"
   ]
  },
  {
   "cell_type": "code",
   "execution_count": 19,
   "metadata": {},
   "outputs": [],
   "source": [
    "# TODO: increase the stock of 7% after a special delivery of Christmas cracker"
   ]
  },
  {
   "cell_type": "code",
   "execution_count": 20,
   "metadata": {},
   "outputs": [],
   "source": [
    "# TODO: print the final amount of the stock"
   ]
  },
  {
   "cell_type": "code",
   "execution_count": 21,
   "metadata": {},
   "outputs": [
    {
     "ename": "AssertionError",
     "evalue": "❌ candy_stock variable should be equals to 36915 at the end",
     "output_type": "error",
     "traceback": [
      "\u001b[0;31m---------------------------------------------------------------------------\u001b[0m",
      "\u001b[0;31mAssertionError\u001b[0m                            Traceback (most recent call last)",
      "Cell \u001b[0;32mIn [21], line 3\u001b[0m\n\u001b[1;32m      1\u001b[0m \u001b[38;5;66;03m# 🔥 Verify your code by running this cell 🔥\u001b[39;00m\n\u001b[1;32m      2\u001b[0m \u001b[38;5;66;03m# If you don't see an error it means your code worked\u001b[39;00m\n\u001b[0;32m----> 3\u001b[0m \u001b[38;5;28;01massert\u001b[39;00m candy_stock \u001b[38;5;241m==\u001b[39m \u001b[38;5;241m36915\u001b[39m,\u001b[38;5;124m\"\u001b[39m\u001b[38;5;124m❌ candy_stock variable should be equals to 36915 at the end\u001b[39m\u001b[38;5;124m\"\u001b[39m\n",
      "\u001b[0;31mAssertionError\u001b[0m: ❌ candy_stock variable should be equals to 36915 at the end"
     ]
    }
   ],
   "source": [
    "# 🔥 Verify your code by running this cell 🔥\n",
    "# If you don't see an error it means your code worked\n",
    "assert candy_stock == 36915,\"❌ candy_stock variable should be equals to 36915 at the end\""
   ]
  }
 ],
 "metadata": {
  "kernelspec": {
   "display_name": "artefact",
   "language": "python",
   "name": "python3"
  },
  "language_info": {
   "codemirror_mode": {
    "name": "ipython",
    "version": 3
   },
   "file_extension": ".py",
   "mimetype": "text/x-python",
   "name": "python",
   "nbconvert_exporter": "python",
   "pygments_lexer": "ipython3",
   "version": "3.10.12"
  },
  "orig_nbformat": 4
 },
 "nbformat": 4,
 "nbformat_minor": 2
}
